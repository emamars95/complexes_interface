{
 "cells": [
  {
   "cell_type": "markdown",
   "metadata": {},
   "source": [
    "# Plan for an automated, multi-step analytical pipeline of the interface residues"
   ]
  },
  {
   "cell_type": "markdown",
   "metadata": {},
   "source": [
    "__Current Implementation__: \n",
    "- Identify and retrieve the PDB entries 6M0J and 7Z0X.\n",
    "- Perform structural superimposition of the two complexes to determine the overlap of the binding interfaces using PyMOL.\n",
    "- Extract the interface residues in each complex using InterfaceResidues within PyMol\n",
    "- Perform a comparative analysis of the interface residues of SARS-CoV-2 spike protein in the two complexes to identify important residues"
   ]
  },
  {
   "cell_type": "code",
   "execution_count": 24,
   "metadata": {},
   "outputs": [],
   "source": [
    "import urllib.request\n",
    "import pymol\n",
    "import sys\n",
    "import re\n",
    "from typing import Dict, Tuple\n",
    "\n",
    "# If you want to reproduce download InterfaceResidues.py and modify the following path. \n",
    "sys.path.append('/home/or22568/miniconda3/envs/bio-compchem/lib/python3.8/site-packages/pymol/')\n",
    "from InterfaceResidues import interfaceResidues"
   ]
  },
  {
   "cell_type": "code",
   "execution_count": 2,
   "metadata": {},
   "outputs": [],
   "source": [
    "pymol.finish_launching(['pymol', '-qc'])"
   ]
  },
  {
   "cell_type": "markdown",
   "metadata": {},
   "source": [
    "### Identify and retrieve the PDB entries 6M0J and 7Z0X"
   ]
  },
  {
   "cell_type": "code",
   "execution_count": 12,
   "metadata": {},
   "outputs": [],
   "source": [
    "prot1 = '6M0J'\n",
    "prot2 = '7Z0X'"
   ]
  },
  {
   "cell_type": "code",
   "execution_count": 13,
   "metadata": {},
   "outputs": [],
   "source": [
    "def Import_PDB() -> None:\n",
    "    # SARS-CoV-2 spike protein bound with ACE2\n",
    "    url = 'https://files.rcsb.org/download/6M0J.pdb'\n",
    "    urllib.request.urlretrieve(url, '6M0J.pdb') # Save PDB as local file\n",
    "    # Antibody THSC20.HVTR26\n",
    "    url = 'https://files.rcsb.org/download/7Z0X.pdb'\n",
    "    urllib.request.urlretrieve(url, '7Z0X.pdb') # Save PDB as local file"
   ]
  },
  {
   "cell_type": "code",
   "execution_count": 14,
   "metadata": {},
   "outputs": [],
   "source": [
    "Import_PDB()"
   ]
  },
  {
   "cell_type": "markdown",
   "metadata": {},
   "source": [
    "We save images of the loaded protein for visual inspection"
   ]
  },
  {
   "cell_type": "code",
   "execution_count": 15,
   "metadata": {},
   "outputs": [],
   "source": [
    "def Save_Protein(name: str) -> None:\n",
    "    # Save figures\n",
    "    pymol.cmd.show(\"cartoon\", name)\n",
    "    pymol.cmd.png(name + \".png\", width=800, height=600, dpi=300, ray=1)\n",
    "    pymol.cmd.hide('everything', name)\n",
    "        \n",
    "def Load_Protein(name: str) -> None:\n",
    "    # Load structures\n",
    "    pymol.cmd.load(name +'.pdb', name)\n",
    "    Save_Protein(name)\n",
    "    \n",
    "def Load_Proteins() -> None:\n",
    "    Load_Protein(prot1) \n",
    "    Load_Protein(prot2)"
   ]
  },
  {
   "cell_type": "code",
   "execution_count": 16,
   "metadata": {},
   "outputs": [
    {
     "name": "stdout",
     "output_type": "stream",
     "text": [
      " Ray: render time: 0.93 sec. = 3854.0 frames/hour (0.93 sec. accum.).\n",
      " Ray: render time: 1.04 sec. = 3448.9 frames/hour (1.98 sec. accum.).\n"
     ]
    }
   ],
   "source": [
    "Load_Proteins()"
   ]
  },
  {
   "cell_type": "markdown",
   "metadata": {},
   "source": [
    "### Perform structural superimposition of the two complexes to determine the overlap of the binding interfaces using PyMOL."
   ]
  },
  {
   "cell_type": "code",
   "execution_count": 17,
   "metadata": {
    "scrolled": true
   },
   "outputs": [],
   "source": [
    "# Here we align a pair of models. The second (prot2) is kept fix while the first one (prot1) is rotated\n",
    "def Align_Structures() -> None:\n",
    "    pymol.cmd.show('cartoon', prot1)\n",
    "    pymol.cmd.show('cartoon', prot2)\n",
    "    pymol.cmd.align(prot1, prot2)\n",
    "    # We save the figure to for visual inspection\n",
    "    pymol.cmd.png(\"aligned_6M0J.png\", width=800, height=600, dpi=300, ray=1)\n",
    "    return "
   ]
  },
  {
   "cell_type": "code",
   "execution_count": 18,
   "metadata": {},
   "outputs": [
    {
     "name": "stdout",
     "output_type": "stream",
     "text": [
      " Ray: render time: 2.32 sec. = 1554.2 frames/hour (4.29 sec. accum.).\n"
     ]
    }
   ],
   "source": [
    "Align_Structures()"
   ]
  },
  {
   "cell_type": "markdown",
   "metadata": {},
   "source": [
    "To determine which chain corresponds to the SARS-CoV-2 spike protein and which ones correspond to the antibody in the PDB entries provided."
   ]
  },
  {
   "cell_type": "code",
   "execution_count": 19,
   "metadata": {},
   "outputs": [
    {
     "name": "stdout",
     "output_type": "stream",
     "text": [
      "6M0J ['A', 'E']\n",
      "7Z0X ['A', 'H', 'L', 'R']\n"
     ]
    }
   ],
   "source": [
    "all_objs = pymol.cmd.get_object_list()\n",
    "for obj in all_objs:\n",
    "    chains = pymol.cmd.get_chains(obj)\n",
    "    print(obj, chains)"
   ]
  },
  {
   "cell_type": "markdown",
   "metadata": {},
   "source": [
    "### Extract the interface residues in each complex using InterfaceResidues within PyMol"
   ]
  },
  {
   "cell_type": "code",
   "execution_count": 30,
   "metadata": {},
   "outputs": [],
   "source": [
    "# interfaceResidues works with only two chains! \n",
    "# If a complex has more than two chains a pariwise comparison is necessary. The output will be the interface \n",
    "# between each pair. \n",
    "def Identify_Binding_Interfaces(obj: str, chain1: str, chain2: str):\n",
    "    myInterfaceResidues = interfaceResidues(obj, cA=chain1, cB=chain2, cutoff=0.75, selName=\"interface\")\n",
    "    # get_fastastr, get the fasta format of the selected residues (\"interface\")\n",
    "    list_fasta = pymol.cmd.get_fastastr(selection='interface', state=-1, quiet=1)\n",
    "    # In the figure we save the residues with sticks\n",
    "    pymol.cmd.show(\"sticks\", \"interface\")\n",
    "    pymol.cmd.png(obj + \"_interface.png\", width=800, height=600, dpi=300, ray=1)\n",
    "    return myInterfaceResidues, list_fasta"
   ]
  },
  {
   "cell_type": "code",
   "execution_count": 31,
   "metadata": {},
   "outputs": [
    {
     "name": "stdout",
     "output_type": "stream",
     "text": [
      " Ray: render time: 1.13 sec. = 3176.3 frames/hour (16.10 sec. accum.).\n",
      " Ray: render time: 0.78 sec. = 4604.0 frames/hour (16.88 sec. accum.).\n",
      " Ray: render time: 0.80 sec. = 4497.3 frames/hour (17.68 sec. accum.).\n"
     ]
    }
   ],
   "source": [
    "# To have a visual inspection we manipulate the objects in the PyMol by showing and hiding the needed one\n",
    "pymol.cmd.show(\"cartoon\", prot1)    \n",
    "pymol.cmd.hide('everything', prot2)\n",
    "# Get the binding interface of 6M0J\n",
    "binding1_res, binding1_fasta = Identify_Binding_Interfaces(prot1, \"c. A\", \"c. E\")\n",
    "\n",
    "pymol.cmd.hide('everything', prot1)\n",
    "pymol.cmd.show(\"cartoon\", prot2)\n",
    "# Get the binding interface of 7Z0X. Here automation can be improved. \n",
    "# Here we compare spike with heavy chain and after spike with light chain. \n",
    "binding2_res, binding2_fasta = Identify_Binding_Interfaces(prot2, \"c. H\", \"c. R\")\n",
    "binding3_res, binding3_fasta = Identify_Binding_Interfaces(prot2, \"c. L\", \"c. R\")"
   ]
  },
  {
   "cell_type": "markdown",
   "metadata": {},
   "source": [
    "### Perform a comparative analysis of the interface residues of SARS-CoV-2 spike protein in the two complexes to identify important residues"
   ]
  },
  {
   "cell_type": "code",
   "execution_count": 36,
   "metadata": {},
   "outputs": [],
   "source": [
    "# I need this help function to count the number of residues for each interfaces\n",
    "def Count_Element(arr: list, element: str) -> int:\n",
    "    count = 0\n",
    "    for item in arr:\n",
    "        if type(item) == list or type(item) == tuple:\n",
    "            count += Count_Element(item, element)\n",
    "        elif item == element:\n",
    "            count += 1\n",
    "    return count"
   ]
  },
  {
   "cell_type": "code",
   "execution_count": 37,
   "metadata": {},
   "outputs": [],
   "source": [
    "# This help function allow me to get the residues of the interfaces and extract the fasta format from each residue.\n",
    "# I save the informations in two dictionaries interface_spike and interface_antibody. \n",
    "# Each of this dictionary has the residue number, the fasta format and the distance from the interface\n",
    "def Define_Interfaces(binding: list, fasta: list, interface_spike: Dict, interface_antibody: Dict) -> Tuple[Dict]:\n",
    "    # Count residues for spike and antibody\n",
    "    n_antibody = Count_Element(binding, 'chA') \n",
    "    n_spike = Count_Element(binding, 'chB')\n",
    "    print(\"Number residues interface antibody: \", n_antibody)\n",
    "    print(\"Number residues interface spike: \", n_spike)\n",
    "    \n",
    "    index = 0 \n",
    "    for ele in binding:\n",
    "        try:\n",
    "            res, dist = int(ele[1]), float(ele[2])\n",
    "        except:\n",
    "            res = int(re.sub(\"[^0-9]\", \"\", ele[1]))\n",
    "        if ele[0] == 'chA':\n",
    "            label = fasta.split()[1][index]\n",
    "            interface_antibody[res] = [label, f\"{dist:5.2f}\"]\n",
    "            index += 1\n",
    "        elif ele[0] != 'chA':\n",
    "            label = fasta.split()[3][index - n_antibody]\n",
    "            interface_spike[res] = [label, f\"{dist:5.2f}\"]\n",
    "            index += 1\n",
    "    return interface_spike, interface_antibody"
   ]
  },
  {
   "cell_type": "code",
   "execution_count": 38,
   "metadata": {},
   "outputs": [],
   "source": [
    "# I need this help function to print the sequence of amino acids\n",
    "def Print(dictionary: Dict) -> None:\n",
    "    value_min, value_max = int(min(dictionary.keys())), int(max(dictionary.keys()))\n",
    "    string = ''\n",
    "    # I leave 5 residues empty to have a nice print of the sequence\n",
    "    for i in range(value_min - 5, value_max + 5):\n",
    "        if i in list(dictionary.keys()):\n",
    "            string += dictionary[i][0]\n",
    "        else:\n",
    "            string += '.'\n",
    "    print(string)"
   ]
  },
  {
   "cell_type": "code",
   "execution_count": 43,
   "metadata": {},
   "outputs": [],
   "source": [
    "# I need this help function to print the most important residuals. These are excellent candidates for further mutations\n",
    "def Print_Important_Residues(dictionary: Dict) -> Dict:\n",
    "    important_residues = {}\n",
    "    for key, values in dictionary.items():\n",
    "        #print(values)\n",
    "        if float(values[1]) > 4.0: \n",
    "            important_residues[key] = [values]\n",
    "            print(f\"Reside: {key:<5}, Amino Acid: {values[0]}, Distance (dASA): {values[1]}\")\n",
    "    #return important_residues"
   ]
  },
  {
   "cell_type": "markdown",
   "metadata": {},
   "source": [
    "In this section, we display the output of our analysis, which includes the interface sequences of the spike protein and antibody. The interface amino acids are presented in the FASTA format. Additionally, we highlight the closest and most significant amino acids."
   ]
  },
  {
   "cell_type": "code",
   "execution_count": 44,
   "metadata": {},
   "outputs": [
    {
     "name": "stdout",
     "output_type": "stream",
     "text": [
      "Number residues interface antibody:  25\n",
      "Number residues interface spike:  22\n",
      "\n",
      "Seq. for Spike interface M60J\n",
      ".....K...........................VG..Y...Y.LF................Y.AG.......E.FN.Y...Q..G.Q.TNGV.Y....\n",
      "\n",
      "Seq. for Anitbody M60J\n",
      ".....S....Q..TF.DK..HE.ED..YQ..L.................................L..MY.................................................................................................................................................................................................................................................QG...N......................KGD.R............................A......R....\n",
      "\n",
      "Relevant Residues for the antibody interface M60J:\n",
      "\n",
      "Reside: 19   , Amino Acid: S, Distance (dASA):  8.77\n",
      "Reside: 28   , Amino Acid: F, Distance (dASA):  5.10\n",
      "Reside: 31   , Amino Acid: K, Distance (dASA):  5.02\n",
      "Reside: 41   , Amino Acid: Y, Distance (dASA):  4.59\n",
      "Reside: 42   , Amino Acid: Q, Distance (dASA): 35.01\n",
      "Reside: 79   , Amino Acid: L, Distance (dASA): 20.68\n",
      "Reside: 82   , Amino Acid: M, Distance (dASA):  5.20\n",
      "Reside: 330  , Amino Acid: N, Distance (dASA): 16.71\n",
      "Reside: 353  , Amino Acid: K, Distance (dASA): 11.24\n",
      "Reside: 354  , Amino Acid: G, Distance (dASA):  4.68\n",
      "Reside: 357  , Amino Acid: R, Distance (dASA): 10.64\n",
      "Reside: 393  , Amino Acid: R, Distance (dASA):  9.23\n"
     ]
    }
   ],
   "source": [
    "interface_spike, interface_antibody = Define_Interfaces(binding1_res, binding1_fasta, {}, {})\n",
    "print(\"\\nSeq. for Spike interface M60J\")\n",
    "Print(interface_spike)\n",
    "print(\"\\nSeq. for Anitbody M60J\")\n",
    "Print(interface_antibody)\n",
    "print(\"\\nRelevant Residues for the antibody interface M60J:\\n\")\n",
    "Print_Important_Residues(interface_antibody)"
   ]
  },
  {
   "cell_type": "code",
   "execution_count": 45,
   "metadata": {},
   "outputs": [
    {
     "name": "stdout",
     "output_type": "stream",
     "text": [
      "Number residues interface antibody:  13\n",
      "Number residues interface spike:  14\n",
      "Number residues interface antibody:  6\n",
      "Number residues interface spike:  6\n",
      "\n",
      "Seq. for Spike interface 7Z0X\n",
      ".....F................Y.AGSTP.N.VEGFNCY...Q....\n",
      "\n",
      "Seq. for Anitbody Heavy chain 7Z0X\n",
      ".....Y..................YSG.S.Y....................................LVGALG....\n",
      "\n",
      "Seq. for Anitbody Light chain 7Z0X\n",
      ".....Y.L..........................................................Y..SSW....\n",
      "\n",
      "Relevant Residues for the antibody interface Heavy chain 7Z0X:\n",
      "\n",
      "Reside: 95   , Amino Acid: L, Distance (dASA):  5.21\n",
      "Reside: 98   , Amino Acid: A, Distance (dASA):  8.92\n",
      "Reside: 99   , Amino Acid: L, Distance (dASA): 10.62\n",
      "Reside: 100  , Amino Acid: G, Distance (dASA): 10.62\n",
      "\n",
      "Relevant Residues for the antibody interface Heavy chain 7Z0X:\n",
      "\n",
      "Reside: 30   , Amino Acid: Y, Distance (dASA):  5.16\n",
      "Reside: 95   , Amino Acid: S, Distance (dASA): 18.56\n"
     ]
    }
   ],
   "source": [
    "interface_spike, interface_antibody1 = Define_Interfaces(binding2_res, binding2_fasta, {}, {})\n",
    "interface_spike, interface_antibody2 = Define_Interfaces(binding3_res, binding3_fasta, interface_spike, {})\n",
    "print(\"\\nSeq. for Spike interface 7Z0X\")\n",
    "Print(interface_spike)\n",
    "print(\"\\nSeq. for Anitbody Heavy chain 7Z0X\")\n",
    "Print(interface_antibody1)\n",
    "print(\"\\nSeq. for Anitbody Light chain 7Z0X\")\n",
    "Print(interface_antibody2)\n",
    "print(\"\\nRelevant Residues for the antibody interface Heavy chain 7Z0X:\\n\")\n",
    "Print_Important_Residues(interface_antibody1)\n",
    "print(\"\\nRelevant Residues for the antibody interface Heavy chain 7Z0X:\\n\")\n",
    "Print_Important_Residues(interface_antibody2)"
   ]
  },
  {
   "cell_type": "code",
   "execution_count": null,
   "metadata": {},
   "outputs": [],
   "source": []
  }
 ],
 "metadata": {
  "kernelspec": {
   "display_name": "Python 3 (ipykernel)",
   "language": "python",
   "name": "python3"
  },
  "language_info": {
   "codemirror_mode": {
    "name": "ipython",
    "version": 3
   },
   "file_extension": ".py",
   "mimetype": "text/x-python",
   "name": "python",
   "nbconvert_exporter": "python",
   "pygments_lexer": "ipython3",
   "version": "3.8.16"
  }
 },
 "nbformat": 4,
 "nbformat_minor": 1
}
